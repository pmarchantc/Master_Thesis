{
 "cells": [
  {
   "cell_type": "code",
   "execution_count": 1,
   "metadata": {},
   "outputs": [
    {
     "name": "stdout",
     "output_type": "stream",
     "text": [
      "Populating the interactive namespace from numpy and matplotlib\n"
     ]
    }
   ],
   "source": [
    "%pylab inline"
   ]
  },
  {
   "cell_type": "code",
   "execution_count": 4,
   "metadata": {},
   "outputs": [],
   "source": [
    "from sklearn.cluster import OPTICS, cluster_optics_dbscan, DBSCAN\n",
    "from sklearn import metrics\n",
    "from sklearn.cluster import DBSCAN\n",
    "from sklearn.cluster import AgglomerativeClustering\n",
    "from sklearn.preprocessing import StandardScaler\n",
    "from sklearn.model_selection import GridSearchCV\n",
    "from sklearn.model_selection import ParameterGrid\n",
    "import multiprocessing\n",
    "from joblib import Parallel, delayed\n",
    "#import seaborn as sns\n",
    "import pandas as pd\n",
    "\n",
    "import matplotlib.patches as mpatches\n",
    "import matplotlib.colors as mcolors\n",
    "from matplotlib.collections import PatchCollection\n",
    "import matplotlib.gridspec as gridspec\n",
    "\n",
    "\n",
    "from astropy import units as u\n",
    "from astropy.coordinates import SkyCoord\n",
    "\n",
    "import warnings\n",
    "warnings.filterwarnings('ignore')\n",
    "\n",
    "import loaders"
   ]
  },
  {
   "cell_type": "markdown",
   "metadata": {},
   "source": [
    "# MST groups"
   ]
  },
  {
   "cell_type": "code",
   "execution_count": 5,
   "metadata": {},
   "outputs": [
    {
     "ename": "AttributeError",
     "evalue": "module 'loaders' has no attribute 'load_mst'",
     "output_type": "error",
     "traceback": [
      "\u001b[0;31m---------------------------------------------------------------------------\u001b[0m",
      "\u001b[0;31mAttributeError\u001b[0m                            Traceback (most recent call last)",
      "\u001b[0;32m<ipython-input-5-ffbddb4c3738>\u001b[0m in \u001b[0;36m<module>\u001b[0;34m\u001b[0m\n\u001b[0;32m----> 1\u001b[0;31m \u001b[0mgroups_mst\u001b[0m\u001b[0;34m,\u001b[0m \u001b[0mgalxs_mst\u001b[0m\u001b[0;34m,\u001b[0m \u001b[0mbranches\u001b[0m \u001b[0;34m=\u001b[0m \u001b[0mloaders\u001b[0m\u001b[0;34m.\u001b[0m\u001b[0mload_mst\u001b[0m\u001b[0;34m(\u001b[0m\u001b[0;34m'Catalogos/MST/clusparam.dat'\u001b[0m\u001b[0;34m,\u001b[0m\u001b[0;34m'Catalogos/MST/miensalclumag.dat'\u001b[0m\u001b[0;34m,\u001b[0m\u001b[0;34m'Catalogos/MST/branches.txt'\u001b[0m\u001b[0;34m)\u001b[0m\u001b[0;34m\u001b[0m\u001b[0;34m\u001b[0m\u001b[0m\n\u001b[0m",
      "\u001b[0;31mAttributeError\u001b[0m: module 'loaders' has no attribute 'load_mst'"
     ]
    }
   ],
   "source": [
    "groups_mst, galxs_mst, branches = loaders.load_mst('Catalogos/MST/clusparam.dat','Catalogos/MST/miensalclumag.dat','Catalogos/MST/branches.txt')"
   ]
  },
  {
   "cell_type": "code",
   "execution_count": null,
   "metadata": {},
   "outputs": [],
   "source": [
    "groups_mst.head(10)"
   ]
  },
  {
   "cell_type": "markdown",
   "metadata": {},
   "source": [
    "## Catálogo"
   ]
  },
  {
   "cell_type": "code",
   "execution_count": null,
   "metadata": {},
   "outputs": [],
   "source": [
    "df = pd.read_csv(\"Catalogos/final_cat_v4_October_myver.txt\",delim_whitespace=True)"
   ]
  },
  {
   "cell_type": "code",
   "execution_count": null,
   "metadata": {},
   "outputs": [],
   "source": [
    "c = SkyCoord(ra=df['ALPHA_J2000'], dec=df['DELTA_J2000'], frame='icrs',unit='degree')\n",
    "df['l'] = c.galactic.l\n",
    "df['b'] = c.galactic.b"
   ]
  },
  {
   "cell_type": "markdown",
   "metadata": {},
   "source": [
    "## DUST"
   ]
  },
  {
   "cell_type": "code",
   "execution_count": null,
   "metadata": {},
   "outputs": [],
   "source": [
    "dust = loaders.load_dust()"
   ]
  },
  {
   "cell_type": "code",
   "execution_count": null,
   "metadata": {},
   "outputs": [],
   "source": [
    "def plot_branches(ax):\n",
    "    for k,row in branches.iterrows():\n",
    "        ax.plot([row['l1'],row['l2']],[row['b1'],row['b2']],'k')"
   ]
  },
  {
   "cell_type": "code",
   "execution_count": null,
   "metadata": {},
   "outputs": [],
   "source": [
    "def plot_grupos(ax):\n",
    "    unique_labels = groups_mst['nmem'].values\n",
    "    norm = mcolors.LogNorm(4,91)\n",
    "    colors = [plt.cm.jet(each) for each in norm(unique_labels)]\n",
    "    \n",
    "    for k, row in groups_mst.iterrows():\n",
    "        radius = row['radius']\n",
    "        circle = mpatches.Circle((row['l'],row['b']),lw=2,radius=radius/60,\n",
    "                             edgecolor=plt.cm.jet(norm(row['nmem'])),facecolor='None')\n",
    "        ax.add_patch(circle)\n",
    "    return(norm)"
   ]
  },
  {
   "cell_type": "code",
   "execution_count": null,
   "metadata": {},
   "outputs": [],
   "source": [
    "fig = plt.figure(figsize=(20,8))\n",
    "ax = fig.add_subplot(211,aspect='equal')\n",
    "\n",
    "plot_grupos(ax)\n",
    "plot_branches(ax)\n",
    "ax.contour(dust['xi'], dust['yi'], dust['zi'],levels=[11,15,20,25],extent=(df['l'].min(),df['l'].max(),df['b'].min(),df['b'].max()),origin='lower',alpha=0.6,cmap='gist_yarg')\n",
    "\n",
    "\n",
    "ax.set_xlim(df['l'].max(),322.0)\n",
    "ax.set_ylim(df['b'].min(),df['b'].max())\n",
    "ax.set_xlabel('Galactic Longitude [deg]',fontsize=16)\n",
    "ax.set_ylabel('Galactic Latitude [deg]',fontsize=16);\n",
    "ax.tick_params(labelsize=16, width=3)\n",
    "ax.grid(True)\n",
    "\n",
    "ax = fig.add_subplot(212,aspect='equal')\n",
    "\n",
    "ax.contour(dust['xi'], dust['yi'], dust['zi'],levels=[11,15,20,25],extent=(df['l'].min(),df['l'].max(),df['b'].min(),df['b'].max()),origin='lower',alpha=0.6,cmap='gist_yarg')\n",
    "\n",
    "plot_branches(ax)\n",
    "norm = plot_grupos(ax)\n",
    "\n",
    "ax.set_xlim(322.0,df['l'].min())\n",
    "ax.set_ylim(df['b'].min(),df['b'].max())\n",
    "ax.set_xlabel('Galactic Longitude [deg]',fontsize=16)\n",
    "ax.set_ylabel('Galactic Latitude [deg]',fontsize=16);\n",
    "ax.tick_params(labelsize=16, width=3)\n",
    "ax.grid(True)\n",
    "\n",
    "#plt.subplots_adjust(bottom=0.1,right=0.8,top=0.9)\n",
    "cax = plt.axes([0.93, 0.15, 0.01, 0.7])\n",
    "cbar = plt.colorbar(cm.ScalarMappable(norm=norm, cmap=plt.cm.jet),cax=cax,ticks=[4,10,30,91])\n",
    "cbar.ax.set_yticklabels(['4','10','30','91'])\n",
    "cbar.set_label('Number of members')"
   ]
  }
 ],
 "metadata": {
  "kernelspec": {
   "display_name": "Python 3",
   "language": "python",
   "name": "python3"
  },
  "language_info": {
   "codemirror_mode": {
    "name": "ipython",
    "version": 3
   },
   "file_extension": ".py",
   "mimetype": "text/x-python",
   "name": "python",
   "nbconvert_exporter": "python",
   "pygments_lexer": "ipython3",
   "version": "3.7.9"
  }
 },
 "nbformat": 4,
 "nbformat_minor": 4
}

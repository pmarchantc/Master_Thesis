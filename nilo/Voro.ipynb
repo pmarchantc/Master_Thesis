{
 "cells": [
  {
   "cell_type": "code",
   "execution_count": null,
   "metadata": {},
   "outputs": [],
   "source": [
    "%pylab inline"
   ]
  },
  {
   "cell_type": "code",
   "execution_count": 1,
   "metadata": {},
   "outputs": [
    {
     "ename": "ModuleNotFoundError",
     "evalue": "No module named 'seaborn'",
     "output_type": "error",
     "traceback": [
      "\u001b[0;31m---------------------------------------------------------------------------\u001b[0m",
      "\u001b[0;31mModuleNotFoundError\u001b[0m                       Traceback (most recent call last)",
      "\u001b[0;32m<ipython-input-1-85862f627243>\u001b[0m in \u001b[0;36m<module>\u001b[0;34m\u001b[0m\n\u001b[1;32m      8\u001b[0m \u001b[0;32mimport\u001b[0m \u001b[0mmultiprocessing\u001b[0m\u001b[0;34m\u001b[0m\u001b[0;34m\u001b[0m\u001b[0m\n\u001b[1;32m      9\u001b[0m \u001b[0;32mfrom\u001b[0m \u001b[0mjoblib\u001b[0m \u001b[0;32mimport\u001b[0m \u001b[0mParallel\u001b[0m\u001b[0;34m,\u001b[0m \u001b[0mdelayed\u001b[0m\u001b[0;34m\u001b[0m\u001b[0;34m\u001b[0m\u001b[0m\n\u001b[0;32m---> 10\u001b[0;31m \u001b[0;32mimport\u001b[0m \u001b[0mseaborn\u001b[0m \u001b[0;32mas\u001b[0m \u001b[0msns\u001b[0m\u001b[0;34m\u001b[0m\u001b[0;34m\u001b[0m\u001b[0m\n\u001b[0m\u001b[1;32m     11\u001b[0m \u001b[0;32mimport\u001b[0m \u001b[0mpandas\u001b[0m \u001b[0;32mas\u001b[0m \u001b[0mpd\u001b[0m\u001b[0;34m\u001b[0m\u001b[0;34m\u001b[0m\u001b[0m\n\u001b[1;32m     12\u001b[0m \u001b[0;34m\u001b[0m\u001b[0m\n",
      "\u001b[0;31mModuleNotFoundError\u001b[0m: No module named 'seaborn'"
     ]
    }
   ],
   "source": [
    "from sklearn.cluster import OPTICS, cluster_optics_dbscan, DBSCAN\n",
    "from sklearn import metrics\n",
    "from sklearn.cluster import DBSCAN\n",
    "from sklearn.cluster import AgglomerativeClustering\n",
    "from sklearn.preprocessing import StandardScaler\n",
    "from sklearn.model_selection import GridSearchCV\n",
    "from sklearn.model_selection import ParameterGrid\n",
    "import multiprocessing\n",
    "from joblib import Parallel, delayed\n",
    "import seaborn as sns\n",
    "import pandas as pd\n",
    "\n",
    "import matplotlib.patches as mpatches\n",
    "import matplotlib.colors as mcolors\n",
    "from matplotlib.collections import PatchCollection\n",
    "import matplotlib.gridspec as gridspec\n",
    "\n",
    "\n",
    "from astropy import units as u\n",
    "from astropy.coordinates import SkyCoord\n",
    "\n",
    "import warnings\n",
    "warnings.filterwarnings('ignore')\n",
    "\n",
    "import loaders"
   ]
  },
  {
   "cell_type": "code",
   "execution_count": null,
   "metadata": {},
   "outputs": [],
   "source": [
    "import scipy.spatial as sp"
   ]
  },
  {
   "cell_type": "markdown",
   "metadata": {},
   "source": [
    "# Voro groups"
   ]
  },
  {
   "cell_type": "code",
   "execution_count": null,
   "metadata": {},
   "outputs": [],
   "source": [
    "groups_voro, galxs_voro = loaders.load_voro('Catalogos/Voro/clusparam_v.dat','Catalogos/Voro/miensalclumag_v.dat')"
   ]
  },
  {
   "cell_type": "code",
   "execution_count": null,
   "metadata": {},
   "outputs": [],
   "source": [
    "groups_voro.head(10)"
   ]
  },
  {
   "cell_type": "markdown",
   "metadata": {},
   "source": [
    "## VVVIRGC"
   ]
  },
  {
   "cell_type": "code",
   "execution_count": null,
   "metadata": {},
   "outputs": [],
   "source": [
    "df = pd.read_csv(\"Catalogos/final_cat_v4_October_myver.txt\",delim_whitespace=True)"
   ]
  },
  {
   "cell_type": "code",
   "execution_count": null,
   "metadata": {},
   "outputs": [],
   "source": [
    "c = SkyCoord(ra=df['ALPHA_J2000'], dec=df['DELTA_J2000'], frame='icrs',unit='degree')\n",
    "df['l'] = c.galactic.l\n",
    "df['b'] = c.galactic.b"
   ]
  },
  {
   "cell_type": "code",
   "execution_count": null,
   "metadata": {},
   "outputs": [],
   "source": [
    "area = pd.read_csv(\"Catalogos/Voro/areas.dat\",delim_whitespace=True)\n",
    "df['area'] = area['Area']"
   ]
  },
  {
   "cell_type": "markdown",
   "metadata": {},
   "source": [
    "## Coordenadas galácticas"
   ]
  },
  {
   "cell_type": "code",
   "execution_count": null,
   "metadata": {},
   "outputs": [],
   "source": [
    "fig = plt.figure(figsize=(30,10))\n",
    "ax = fig.add_subplot(111,aspect='equal')\n",
    "ax.plot(df['l'],df['b'],'.',alpha=1.0,markersize=3)\n",
    "ax.set_xlim(df['l'].min(),df['l'].max())\n",
    "ax.set_ylim(df['b'].min(),df['b'].max())\n",
    "ax.set_xlabel('l [º]',fontsize=16)\n",
    "ax.set_ylabel('b [º]',fontsize=16);\n",
    "ax.tick_params(labelsize=16, width=3)"
   ]
  },
  {
   "cell_type": "code",
   "execution_count": null,
   "metadata": {},
   "outputs": [],
   "source": [
    "X = df[['l','b']]"
   ]
  },
  {
   "cell_type": "code",
   "execution_count": null,
   "metadata": {},
   "outputs": [],
   "source": [
    "voro = sp.Voronoi(X)"
   ]
  },
  {
   "cell_type": "code",
   "execution_count": null,
   "metadata": {},
   "outputs": [],
   "source": [
    "def plot_grupos(ax):\n",
    "    unique_labels = groups_voro['nmem'].values\n",
    "    norm = mcolors.LogNorm(4,91)\n",
    "    colors = [plt.cm.jet(each) for each in norm(unique_labels)]\n",
    "    \n",
    "    for k, row in groups_voro.iterrows():\n",
    "        radius = row['radius']\n",
    "        circle = mpatches.Circle((row['l'],row['b']),lw=2,radius=radius/60,\n",
    "                             edgecolor=plt.cm.jet(norm(row['nmem'])),facecolor='None')\n",
    "        ax.add_patch(circle)\n",
    "    return(norm)"
   ]
  },
  {
   "cell_type": "code",
   "execution_count": null,
   "metadata": {},
   "outputs": [],
   "source": [
    "def plot_polygons(voro,gals,ax=None):\n",
    "    minima = 0.60\n",
    "    maxima = 43.45\n",
    "    \n",
    "    norm = mpl.colors.Normalize(vmin=minima, vmax=maxima, clip=True)\n",
    "    mapper = mpl.cm.ScalarMappable(norm=norm, cmap='Blues_r')\n",
    "    \n",
    "    _area = np.zeros(len(voro.point_region)) - 1.0\n",
    "    for r in range(voro.npoints):\n",
    "        region = voro.regions[voro.point_region[r]]\n",
    "        if (not -1 in region) and (gals['area'].iloc[r] > 0.0):\n",
    "            polygon = [voro.vertices[i] for i in region]\n",
    "            a = np.array(polygon)\n",
    "            xc = a[:,0].sum()/len(a)\n",
    "            yc = a[:,1].sum()/len(a)\n",
    "            xs = a[:,0] - xc\n",
    "            ys = a[:,1] - yc\n",
    "            theta = np.arctan2(ys,xs)*180/np.pi\n",
    "            indx = np.argsort(theta)\n",
    "            xs = a[indx,0]\n",
    "            ys = a[indx,1]\n",
    "            i=np.arange(len(xs))\n",
    "            Area=np.abs(np.sum(xs[i-1]*ys[i]-xs[i]*ys[i-1])*0.5)\n",
    "            _area[r] = Area\n",
    "            ax.fill(*zip(*polygon), color=mapper.to_rgba(gals['area'].iloc[r]))"
   ]
  },
  {
   "cell_type": "code",
   "execution_count": null,
   "metadata": {},
   "outputs": [],
   "source": [
    "fig = plt.figure(figsize=(20,8))\n",
    "ax = fig.add_subplot(211,aspect='equal')\n",
    "\n",
    "plot_polygons(voro,df,ax=ax)\n",
    "plot_grupos(ax)\n",
    "\n",
    "p = sp.voronoi_plot_2d(voro,ax=ax,show_points=False,show_vertices=False,line_alpha=0.1)\n",
    "\n",
    "ax.set_xlim(df['l'].max(),322.0)\n",
    "ax.set_ylim(df['b'].min(),df['b'].max())\n",
    "ax.set_xlabel('Galactic Longitude [deg]',fontsize=16)\n",
    "ax.set_ylabel('Galactic Latitude [deg]',fontsize=16);\n",
    "ax.tick_params(labelsize=16, width=3)\n",
    "ax.grid(True)\n",
    "\n",
    "ax = fig.add_subplot(212,aspect='equal')\n",
    "\n",
    "plot_polygons(voro,df,ax=ax)\n",
    "p = sp.voronoi_plot_2d(voro,ax=ax,show_points=False,show_vertices=False,line_alpha=0.1)\n",
    "norm = plot_grupos(ax)\n",
    "\n",
    "\n",
    "ax.set_xlim(322.0,df['l'].min())\n",
    "ax.set_ylim(df['b'].min(),df['b'].max())\n",
    "ax.set_xlabel('Galactic Longitude [deg]',fontsize=16)\n",
    "ax.set_ylabel('Galactic Latitude [deg]',fontsize=16);\n",
    "ax.tick_params(labelsize=16, width=3)\n",
    "ax.grid(True)\n",
    "\n",
    "#plt.subplots_adjust(bottom=0.1,right=0.8,top=0.9)\n",
    "cax = plt.axes([0.93, 0.15, 0.01, 0.7])\n",
    "cbar = plt.colorbar(cm.ScalarMappable(norm=norm, cmap=plt.cm.jet),cax=cax,ticks=[4,10,30,91])\n",
    "cbar.ax.set_yticklabels(['4','10','30','91'])\n",
    "cbar.set_label('Number of members')"
   ]
  },
  {
   "cell_type": "code",
   "execution_count": null,
   "metadata": {},
   "outputs": [],
   "source": []
  }
 ],
 "metadata": {
  "kernelspec": {
   "display_name": "Python 3",
   "language": "python",
   "name": "python3"
  },
  "language_info": {
   "codemirror_mode": {
    "name": "ipython",
    "version": 3
   },
   "file_extension": ".py",
   "mimetype": "text/x-python",
   "name": "python",
   "nbconvert_exporter": "python",
   "pygments_lexer": "ipython3",
   "version": "3.7.9"
  }
 },
 "nbformat": 4,
 "nbformat_minor": 4
}
